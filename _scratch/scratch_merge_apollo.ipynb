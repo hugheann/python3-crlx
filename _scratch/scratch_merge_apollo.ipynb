{
 "cells": [
  {
   "cell_type": "code",
   "id": "initial_id",
   "metadata": {
    "collapsed": true,
    "ExecuteTime": {
     "end_time": "2024-08-19T18:12:23.085631Z",
     "start_time": "2024-08-19T18:12:21.651655Z"
    }
   },
   "source": [
    "from datetime import datetime\n",
    "import fsspec\n",
    "import os\n",
    "import matplotlib.pyplot as plt\n",
    "import multiprocessing\n",
    "import numpy as np\n",
    "import xarray as xr"
   ],
   "execution_count": 1,
   "outputs": []
  },
  {
   "metadata": {},
   "cell_type": "code",
   "execution_count": null,
   "source": "",
   "id": "21b4833fcd5291f6",
   "outputs": []
  },
  {
   "metadata": {},
   "cell_type": "code",
   "execution_count": null,
   "source": "",
   "id": "5c2eec651f77e5dd",
   "outputs": []
  },
  {
   "metadata": {
    "ExecuteTime": {
     "end_time": "2024-08-19T18:12:23.593272Z",
     "start_time": "2024-08-19T18:12:23.581725Z"
    }
   },
   "cell_type": "code",
   "source": [
    "local = fsspec.filesystem('file')\n",
    "data_dir = 'C:/Users/Ian/Box/pco2_skq/data/daily'"
   ],
   "id": "2695f5d0b53314ca",
   "execution_count": 2,
   "outputs": []
  },
  {
   "metadata": {
    "ExecuteTime": {
     "end_time": "2024-08-19T18:45:44.282416Z",
     "start_time": "2024-08-19T18:45:43.889041Z"
    }
   },
   "cell_type": "code",
   "source": [
    "apollo_files = local.glob(os.path.join(data_dir,'*/*APOLLO*.nc'))\n",
    "wind_files = local.glob(os.path.join(data_dir,'*/*GILL75-1*.nc'))\n",
    "sst_files = local.glob(os.path.join(data_dir,'*/*SBE38-1*.nc'))\n",
    "met_files = local.glob(os.path.join(data_dir,'*/*MET*.nc'))\n",
    "gps_files = local.glob(os.path.join(data_dir,'*/*GPS-POSITION*.nc'))\n",
    "sbe45_files = local.glob(os.path.join(data_dir,'*/*SBE45-1*.nc'))\n",
    "oxy_files = local.glob(os.path.join(data_dir,'*/*OPTODE*.nc'))\n",
    "trip_files = local.glob(os.path.join(data_dir, '*/*TRIPLET*.nc'))\n",
    "nit_files = local.glob(os.path.join(data_dir, '*/*SUNA*.nc'))"
   ],
   "id": "34f85fa6e9fd228b",
   "execution_count": 98,
   "outputs": []
  },
  {
   "metadata": {
    "ExecuteTime": {
     "end_time": "2024-08-19T18:12:37.188080Z",
     "start_time": "2024-08-19T18:12:37.172310Z"
    }
   },
   "cell_type": "code",
   "source": [
    "def combine_sensor_files(filepaths):\n",
    "    with multiprocessing.Pool() as pool:\n",
    "        ds_list = pool.map(xr.open_dataset,filepaths)\n",
    "    try:\n",
    "        ds = xr.combine_by_coords(ds_list, combine_attrs='drop_conflicts')\n",
    "    except:\n",
    "        ds = xr.concat(ds_list, dim = 'time', combine_attrs='drop_conflicts')\n",
    "        ds = ds.drop_duplicates(dim = 'time')\n",
    "    return ds"
   ],
   "id": "9cbc2f77e9ca0e74",
   "execution_count": 5,
   "outputs": []
  },
  {
   "metadata": {
    "ExecuteTime": {
     "end_time": "2024-08-19T18:12:38.067663Z",
     "start_time": "2024-08-19T18:12:38.059941Z"
    }
   },
   "cell_type": "code",
   "source": [
    "def med_filt(da: xr.DataArray, window_size: int = 11) -> xr.DataArray:\n",
    "  mfda = da.rolling({'time': window_size}, center = True, min_periods = 1).median(skipna = True)\n",
    "  return mfda\n",
    "\n",
    "def stdev_filt(da: xr.DataArray, multiplier: float = 3) -> xr.DataArray:\n",
    "  sfda = da.where((da > da.mean() - multiplier * da.std()) & (da < da.mean() + multiplier * da.std()), np.nan)\n",
    "  return sfda"
   ],
   "id": "7cfa315563d3c15d",
   "execution_count": 6,
   "outputs": []
  },
  {
   "metadata": {
    "ExecuteTime": {
     "end_time": "2024-08-19T18:43:32.405244Z",
     "start_time": "2024-08-19T18:43:29.902062Z"
    }
   },
   "cell_type": "code",
   "source": [
    "ecotrip = combine_sensor_files(trip_files)\n",
    "ecotrip = ecotrip.sortby('time')\n",
    "chl = ecotrip.fluorometric_chlorophyll_a\n",
    "cdom = ecotrip.fluorometric_cdom\n",
    "\n",
    "chlr = med_filt(chl,window_size = 59)\n",
    "cdomr = med_filt(chl, window_size = 59)"
   ],
   "id": "9b25e3ef5bef436e",
   "execution_count": 93,
   "outputs": []
  },
  {
   "metadata": {
    "ExecuteTime": {
     "end_time": "2024-08-19T18:44:39.926963Z",
     "start_time": "2024-08-19T18:44:37.302670Z"
    }
   },
   "cell_type": "code",
   "source": [
    "sbe45 = combine_sensor_files(sbe45_files)\n",
    "sbe45 = sbe45.sortby('time')\n",
    "pracsal = sbe45.sea_water_practical_salinity\n",
    "pracsalr = med_filt(pracsal, window_size = 13*5)  "
   ],
   "id": "baa817370413f677",
   "execution_count": 96,
   "outputs": []
  },
  {
   "metadata": {
    "ExecuteTime": {
     "end_time": "2024-08-19T18:26:23.128083Z",
     "start_time": "2024-08-19T18:26:20.029966Z"
    }
   },
   "cell_type": "code",
   "source": [
    "sst = combine_sensor_files(sst_files)\n",
    "sst = sst.sortby('time')\n",
    "sst = sst.rename({'sea_water_temperature':'sea_surface_temperature'})\n",
    "sst = sst.sea_surface_temperature\n",
    "sstr = med_filt(sst, window_size = 29)  #"
   ],
   "id": "c0213c39ef63e675",
   "execution_count": 46,
   "outputs": []
  },
  {
   "metadata": {
    "ExecuteTime": {
     "end_time": "2024-08-19T18:38:46.557489Z",
     "start_time": "2024-08-19T18:38:43.625586Z"
    }
   },
   "cell_type": "code",
   "source": [
    "oxy = combine_sensor_files(oxy_files)\n",
    "oxy = oxy.sortby('time')\n",
    "doxy = oxy.dissolved_oxygen\n",
    "doxyr = med_filt(doxy, window_size = 13*5)"
   ],
   "id": "d93f5a8b97da0e0c",
   "execution_count": 73,
   "outputs": []
  },
  {
   "metadata": {
    "ExecuteTime": {
     "end_time": "2024-08-19T18:18:37.279609Z",
     "start_time": "2024-08-19T18:18:33.920733Z"
    }
   },
   "cell_type": "code",
   "source": [
    "wind = combine_sensor_files(wind_files)\n",
    "wind = wind.sortby('time')\n",
    "wind_dir = wind.true_wind_direction\n",
    "wind_spd = wind.true_wind_speed\n",
    "wind_dirr = med_filt(wind_dir, window_size = 11)\n",
    "wind_spdr = med_filt(wind_spd, window_size = 29)"
   ],
   "id": "aaf7b1fab4f6d1ab",
   "execution_count": 24,
   "outputs": []
  },
  {
   "metadata": {
    "ExecuteTime": {
     "end_time": "2024-08-19T18:23:54.006372Z",
     "start_time": "2024-08-19T18:23:50.797418Z"
    }
   },
   "cell_type": "code",
   "source": [
    "met = combine_sensor_files(met_files)\n",
    "met = met.sortby('time')\n",
    "barop = met.barometric_pressure\n",
    "air_temp = met.air_temperature\n",
    "baropr = med_filt(barop, window_size = 59)\n",
    "air_tempr = med_filt(air_temp, window_size = 29)"
   ],
   "id": "779ffcdc79b56531",
   "execution_count": 43,
   "outputs": []
  },
  {
   "metadata": {
    "ExecuteTime": {
     "end_time": "2024-08-19T18:32:08.114119Z",
     "start_time": "2024-08-19T18:32:04.391577Z"
    }
   },
   "cell_type": "code",
   "source": [
    "gps = combine_sensor_files(gps_files)\n",
    "gps = gps.sortby('time')\n",
    "lat = gps.latitude\n",
    "lon = gps.longitude"
   ],
   "id": "fd444561af96dfd3",
   "execution_count": 51,
   "outputs": []
  },
  {
   "metadata": {
    "ExecuteTime": {
     "end_time": "2024-08-19T18:47:50.796586Z",
     "start_time": "2024-08-19T18:47:47.736996Z"
    }
   },
   "cell_type": "code",
   "source": [
    "nit = combine_sensor_files(nit_files)\n",
    "nit = nit.sortby('time')\n",
    "nit = nit.nitrate\n",
    "nitr = med_filt(nit, window_size = 5)"
   ],
   "id": "7e106239954d6b33",
   "execution_count": 104,
   "outputs": []
  },
  {
   "metadata": {
    "ExecuteTime": {
     "end_time": "2024-08-19T18:51:27.880469Z",
     "start_time": "2024-08-19T18:51:24.516038Z"
    }
   },
   "cell_type": "code",
   "source": [
    "apollo = combine_sensor_files(apollo_files)\n",
    "asw = apollo.where(apollo.sample_source.str.contains('Seawater'), drop = True)    \n",
    "aair = apollo.where(apollo.sample_source.str.contains('Seawater'), drop = True)   "
   ],
   "id": "77ef33995c8cba92",
   "execution_count": 110,
   "outputs": []
  },
  {
   "metadata": {
    "ExecuteTime": {
     "end_time": "2024-08-19T18:51:27.918089Z",
     "start_time": "2024-08-19T18:51:27.882474Z"
    }
   },
   "cell_type": "code",
   "source": "asw",
   "id": "14e95ad0dfcab94d",
   "execution_count": 111,
   "outputs": []
  },
  {
   "metadata": {
    "ExecuteTime": {
     "end_time": "2024-08-19T18:48:02.124767Z",
     "start_time": "2024-08-19T18:48:01.941317Z"
    }
   },
   "cell_type": "code",
   "source": [
    "fig, ax = plt.subplots(1,1)\n",
    "ax.plot(nit.time, nit)\n",
    "ax.plot(nitr.time, nitr)"
   ],
   "id": "959da4b88b93a708",
   "execution_count": 105,
   "outputs": []
  },
  {
   "metadata": {},
   "cell_type": "code",
   "source": "",
   "id": "4554667c34399958",
   "execution_count": null,
   "outputs": []
  },
  {
   "metadata": {},
   "cell_type": "code",
   "source": "",
   "id": "e534e2a5dc62c92e",
   "execution_count": null,
   "outputs": []
  },
  {
   "metadata": {},
   "cell_type": "code",
   "source": "",
   "id": "7e1f27548ef432ff",
   "execution_count": null,
   "outputs": []
  },
  {
   "metadata": {},
   "cell_type": "code",
   "source": "",
   "id": "732654625d45abe8",
   "execution_count": null,
   "outputs": []
  }
 ],
 "metadata": {
  "kernelspec": {
   "display_name": "Python 3",
   "language": "python",
   "name": "python3"
  },
  "language_info": {
   "codemirror_mode": {
    "name": "ipython",
    "version": 2
   },
   "file_extension": ".py",
   "mimetype": "text/x-python",
   "name": "python",
   "nbconvert_exporter": "python",
   "pygments_lexer": "ipython2",
   "version": "2.7.6"
  }
 },
 "nbformat": 4,
 "nbformat_minor": 5
}
